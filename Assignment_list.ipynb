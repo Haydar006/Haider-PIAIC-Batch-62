{
 "cells": [
  {
   "cell_type": "code",
   "execution_count": 39,
   "metadata": {},
   "outputs": [
    {
     "name": "stdout",
     "output_type": "stream",
     "text": [
      "Ali\n",
      "Haider\n",
      "Hussain\n",
      "Irfan\n"
     ]
    }
   ],
   "source": [
    "#Ex 3-1\n",
    "names = ['Ali', 'Haider', 'Hussain', 'Irfan']\n",
    "for name in names:\n",
    "    print(name)"
   ]
  },
  {
   "cell_type": "code",
   "execution_count": 38,
   "metadata": {},
   "outputs": [
    {
     "name": "stdout",
     "output_type": "stream",
     "text": [
      "Ali good to see you.\n",
      "Haider good to see you.\n",
      "Hussain good to see you.\n",
      "Irfan good to see you.\n"
     ]
    }
   ],
   "source": [
    "#Ex 3-2\n",
    "for name in names:\n",
    "     print(f\"{name} good to see you.\")"
   ]
  },
  {
   "cell_type": "code",
   "execution_count": 40,
   "metadata": {},
   "outputs": [
    {
     "name": "stdout",
     "output_type": "stream",
     "text": [
      "Supra MK4 is my favourite car.\n",
      "Mazda RX-7 is my favourite car.\n",
      "Porche 911 is my favourite car.\n"
     ]
    }
   ],
   "source": [
    "#Ex 3-3\n",
    "transports = ['Supra MK4', 'Mazda RX-7', 'Porsche 911']\n",
    "for transport in transports: #creating loop for each transport in the transport list\n",
    "    print(f'{transport} is my favourite car.')"
   ]
  },
  {
   "cell_type": "code",
   "execution_count": 6,
   "metadata": {},
   "outputs": [
    {
     "name": "stdout",
     "output_type": "stream",
     "text": [
      "Ali I want you to come at my house tomorrow for dinner.\n",
      "Hussain I want you to come at my house tomorrow for dinner.\n",
      "Tabraiz I want you to come at my house tomorrow for dinner.\n",
      "Irfan I want you to come at my house tomorrow for dinner.\n"
     ]
    }
   ],
   "source": [
    "#Ex 3-4\n",
    "guest_list = ['Ali', 'Hussain', 'Tabraiz', 'Irfan']\n",
    "for guest in guest_list:\n",
    "    print(f\"{guest} I want you to come at my house tomorrow for dinner.\")"
   ]
  },
  {
   "cell_type": "code",
   "execution_count": 7,
   "metadata": {},
   "outputs": [
    {
     "name": "stdout",
     "output_type": "stream",
     "text": [
      "Ali\n",
      "Haider I want you to come at my house tomorrow for dinner.\n",
      "Hussain I want you to come at my house tomorrow for dinner.\n",
      "Tabraiz I want you to come at my house tomorrow for dinner.\n",
      "Irfan I want you to come at my house tomorrow for dinner.\n"
     ]
    }
   ],
   "source": [
    "#Ex 3-5\n",
    "guest_list = ['Ali', 'Hussain', 'Tabraiz', 'Irfan']\n",
    "print(guest_list[0]) #guest who can not make it\n",
    "guest_list[0] = \"Haider\" #replacing the guest\n",
    "for guest in guest_list:\n",
    "    print(f\"{guest} I want you to come at my house tomorrow for dinner.\")"
   ]
  },
  {
   "cell_type": "code",
   "execution_count": 14,
   "metadata": {},
   "outputs": [
    {
     "name": "stdout",
     "output_type": "stream",
     "text": [
      "Muhammad, I want you to come at my house tomorrow for dinner.\n",
      "Haider, I want you to come at my house tomorrow for dinner.\n",
      "Hussain, I want you to come at my house tomorrow for dinner.\n",
      "Bunyad, I want you to come at my house tomorrow for dinner.\n",
      "Tabraiz, I want you to come at my house tomorrow for dinner.\n",
      "Irfan, I want you to come at my house tomorrow for dinner.\n",
      "Hassan, I want you to come at my house tomorrow for dinner.\n"
     ]
    }
   ],
   "source": [
    "#Ex 3-6\n",
    "guest_list = ['Ali', 'Hussain', 'Tabraiz', 'Irfan']\n",
    "guest_list[0] = \"Haider\"\n",
    "guest_list.insert(0,\"Muhammad\")\n",
    "guest_list.insert(3,\"Bunyad\")\n",
    "guest_list.append(\"Hassan\")\n",
    "for guest in guest_list:\n",
    "    print(f\"{guest}, I want you to come at my house tomorrow for dinner.\")"
   ]
  },
  {
   "cell_type": "code",
   "execution_count": 27,
   "metadata": {},
   "outputs": [
    {
     "name": "stdout",
     "output_type": "stream",
     "text": [
      "I can Invite only two people.\n",
      "I am really sorry I can't invite you to dinner Hassan.\n",
      "I am really sorry I can't invite you to dinner Irfan.\n",
      "I am really sorry I can't invite you to dinner Tabraiz.\n",
      "I am really sorry I can't invite you to dinner Bunyad.\n",
      "I am really sorry I can't invite you to dinner Hussain.\n",
      "Muhammad you are still invited to the dinner.\n",
      "Haider you are still invited to the dinner.\n",
      "[]\n"
     ]
    }
   ],
   "source": [
    "#Ex 3-7\n",
    "guest_list = ['Ali', 'Hussain', 'Tabraiz', \"Irfan\"]\n",
    "guest_list[0] = \"Haider\"\n",
    "guest_list.insert(0,\"Muhammad\")\n",
    "guest_list.insert(3,\"Bunyad\")\n",
    "guest_list.append(\"Hassan\")\n",
    "print(\"I can Invite only two people.\")\n",
    "removed_guest = guest_list.pop() #removing \"Hassan\"\n",
    "print(f\"I am really sorry I can't invite you to dinner {removed_guest}.\") #Printing apology to \"Hassan\"\n",
    "removed_guest = guest_list.pop() #removing \"Irfan\"\n",
    "print(f\"I am really sorry I can't invite you to dinner {removed_guest}.\") #Printing apology to \"Irfan\"\n",
    "removed_guest = guest_list.pop() #removing \"Tabraiz\"\n",
    "print(f\"I am really sorry I can't invite you to dinner {removed_guest}.\") #Printing apology to \"Tabraiz\"\n",
    "removed_guest = guest_list.pop() #removing \"Bunyad\"\n",
    "print(f\"I am really sorry I can't invite you to dinner {removed_guest}.\") #Printing apology to \"Bunyad\"\n",
    "removed_guest = guest_list.pop() #removing \"Hussain\"\n",
    "print(f\"I am really sorry I can't invite you to dinner {removed_guest}.\") #Printing apology to \"Hussain\"\n",
    "for guest in guest_list: #creating loop for the remaining guest\n",
    "    print(f\"{guest} you are still invited to the dinner.\") #Printing message to the remaining guests\n",
    "del guest_list[:] #deleting the remaining list\n",
    "print(guest_list) #printing empty list"
   ]
  },
  {
   "cell_type": "code",
   "execution_count": 5,
   "metadata": {},
   "outputs": [
    {
     "name": "stdout",
     "output_type": "stream",
     "text": [
      "Original order: ['Tokyo', 'Japan', 'Venice', 'Berlin', 'Las vegas']\n",
      "Alphabetical order: ['Berlin', 'Japan', 'Las vegas', 'Tokyo', 'Venice']\n",
      "Original order after sorted(): ['Tokyo', 'Japan', 'Venice', 'Berlin', 'Las vegas']\n",
      "Reverse alphabetical order: ['Venice', 'Tokyo', 'Las vegas', 'Japan', 'Berlin']\n",
      "Original order after reverse sorted(): ['Tokyo', 'Japan', 'Venice', 'Berlin', 'Las vegas']\n",
      "Order after reverse(): ['Las vegas', 'Berlin', 'Venice', 'Japan', 'Tokyo']\n",
      "Order after reversing again: ['Tokyo', 'Japan', 'Venice', 'Berlin', 'Las vegas']\n",
      "List after sort(): ['Berlin', 'Japan', 'Las vegas', 'Tokyo', 'Venice']\n",
      "List after reverse sort(): ['Venice', 'Tokyo', 'Las vegas', 'Japan', 'Berlin']\n"
     ]
    }
   ],
   "source": [
    "#Ex 3-8\n",
    "# Create a list of places you'd like to visit\n",
    "places = ['Tokyo', 'Japan', 'Venice', 'Berlin', 'Las vegas']\n",
    "\n",
    "# Print the list in its original order\n",
    "print(\"Original order:\", places)\n",
    "\n",
    "# Print the list in alphabetical order without modifying the original list\n",
    "print(\"Alphabetical order:\", sorted(places))\n",
    "\n",
    "# Show that the list is still in its original order\n",
    "print(\"Original order after sorted():\", places)\n",
    "\n",
    "# Print the list in reverse-alphabetical order without changing the original list\n",
    "print(\"Reverse alphabetical order:\", sorted(places, reverse=True))\n",
    "\n",
    "# Show that the list is still in its original order\n",
    "print(\"Original order after reverse sorted():\", places)\n",
    "\n",
    "# Change the order of the list using reverse()\n",
    "places.reverse()\n",
    "print(\"Order after reverse():\", places)\n",
    "\n",
    "# Reverse the order again to get back to the original order\n",
    "places.reverse()\n",
    "print(\"Order after reversing again:\", places)\n",
    "\n",
    "# Sort the list in alphabetical order and store it\n",
    "places.sort()\n",
    "print(\"List after sort():\", places)\n",
    "\n",
    "# Sort the list in reverse-alphabetical order and store it\n",
    "places.sort(reverse=True)\n",
    "print(\"List after reverse sort():\", places)"
   ]
  },
  {
   "cell_type": "code",
   "execution_count": 3,
   "metadata": {},
   "outputs": [
    {
     "name": "stdout",
     "output_type": "stream",
     "text": [
      "['Call of Duty', 'GTA 5', 'Minecraft', 'Forza Horizon 4']\n",
      "['Call of Duty', 'GTA 5', 'Minecraft', 'Fortnite']\n",
      "['Fifa', 'Call of Duty', 'GTA 5', 'Tekkan 7', 'Minecraft', 'Fortnite', 'PUBG']\n",
      "['Call of Duty', 'GTA 5', 'Tekkan 7', 'Minecraft']\n",
      "List in alphabetical order: ['Call of Duty', 'GTA 5', 'Minecraft', 'Tekkan 7']\n",
      "List in reverse alphabetical order: ['Tekkan 7', 'Minecraft', 'GTA 5', 'Call of Duty']\n",
      "['Minecraft', 'Tekkan 7', 'GTA 5', 'Call of Duty']\n",
      "['Call of Duty', 'GTA 5', 'Tekkan 7', 'Minecraft']\n",
      "['Call of Duty', 'GTA 5', 'Minecraft', 'Tekkan 7']\n",
      "['GTA 5', 'Minecraft', 'Tekkan 7']\n",
      "[]\n"
     ]
    }
   ],
   "source": [
    "#Ex 3-9\n",
    "famous_games = ['Call of Duty', 'GTA 5', 'Minecraft', 'Forza Horizon 4']\n",
    "print(famous_games)\n",
    "#Changing game\n",
    "famous_games[3] = 'Fortnite'\n",
    "print(famous_games) #Printing changed game\n",
    "#Adding new games\n",
    "famous_games.insert(0, 'Fifa') #Inserting game at start of the list\n",
    "famous_games.insert(3, 'Tekkan 7') #Inserting game in middle of the list\n",
    "famous_games.append('PUBG') #Inserting game at the end of the list\n",
    "print(famous_games)\n",
    "#removing games\n",
    "famous_games.pop() #removing random game from the list\n",
    "famous_games.pop(0) #removing middle game from the list\n",
    "famous_games.pop(-1) #removing the last game from list\n",
    "print(famous_games)\n",
    "#Arranging list in alphabetical order using sorted\n",
    "print('List in alphabetical order:', sorted(famous_games))\n",
    "#Arranging list in reverse alphabetical order using sorted\n",
    "print('List in reverse alphabetical order:', sorted(famous_games, reverse= True))\n",
    "#reversing list\n",
    "famous_games.reverse()\n",
    "print(famous_games) #changing list order\n",
    "#reversing list to original order\n",
    "famous_games.reverse()\n",
    "print(famous_games) #printing list in original form after reversing\n",
    "#Arranging list in alphabetical order using sort\n",
    "famous_games.sort()\n",
    "print(famous_games)\n",
    "#deleting values\n",
    "del famous_games[0] #to delete specified values\n",
    "print(famous_games) #Printing modified list\n",
    "del famous_games[:] #to delete complete list\n",
    "print(famous_games) #printing empty list"
   ]
  },
  {
   "cell_type": "code",
   "execution_count": 6,
   "metadata": {},
   "outputs": [
    {
     "name": "stdout",
     "output_type": "stream",
     "text": [
      "Accessing an out-of-range index:\n"
     ]
    },
    {
     "ename": "IndexError",
     "evalue": "list index out of range",
     "output_type": "error",
     "traceback": [
      "\u001b[1;31m---------------------------------------------------------------------------\u001b[0m",
      "\u001b[1;31mIndexError\u001b[0m                                Traceback (most recent call last)",
      "Cell \u001b[1;32mIn[6], line 7\u001b[0m\n\u001b[0;32m      5\u001b[0m \u001b[38;5;66;03m# Intentionally cause an IndexError\u001b[39;00m\n\u001b[0;32m      6\u001b[0m \u001b[38;5;28mprint\u001b[39m(\u001b[38;5;124m\"\u001b[39m\u001b[38;5;124mAccessing an out-of-range index:\u001b[39m\u001b[38;5;124m\"\u001b[39m)\n\u001b[1;32m----> 7\u001b[0m \u001b[38;5;28mprint\u001b[39m(\u001b[43mcities\u001b[49m\u001b[43m[\u001b[49m\u001b[38;5;241;43m10\u001b[39;49m\u001b[43m]\u001b[49m)  \u001b[38;5;66;03m# This will cause an IndexError\u001b[39;00m\n",
      "\u001b[1;31mIndexError\u001b[0m: list index out of range"
     ]
    }
   ],
   "source": [
    "#Ex 3-10\n",
    "# Create a list of cities\n",
    "cities = ['New York', 'London', 'Tokyo', 'Sydney']\n",
    "\n",
    "# Intentionally cause an IndexError\n",
    "print(\"Accessing an out-of-range index:\")\n",
    "print(cities[10])  # This will cause an IndexError"
   ]
  },
  {
   "cell_type": "code",
   "execution_count": 7,
   "metadata": {},
   "outputs": [
    {
     "name": "stdout",
     "output_type": "stream",
     "text": [
      "Index out of range.\n"
     ]
    }
   ],
   "source": [
    "#Ex 3-10\n",
    "# Correct way: Ensure index is within range\n",
    "if len(cities) > 10:\n",
    "    print(cities[10])\n",
    "else:\n",
    "    print(\"Index out of range.\")"
   ]
  }
 ],
 "metadata": {
  "kernelspec": {
   "display_name": "Python 3",
   "language": "python",
   "name": "python3"
  },
  "language_info": {
   "codemirror_mode": {
    "name": "ipython",
    "version": 3
   },
   "file_extension": ".py",
   "mimetype": "text/x-python",
   "name": "python",
   "nbconvert_exporter": "python",
   "pygments_lexer": "ipython3",
   "version": "3.12.5"
  }
 },
 "nbformat": 4,
 "nbformat_minor": 2
}
